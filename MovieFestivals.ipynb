{
 "cells": [
  {
   "cell_type": "code",
   "execution_count": 1,
   "metadata": {},
   "outputs": [],
   "source": [
    "import bs4 as bs\n",
    "import requests\n",
    "\n",
    "def get_winners_dict(link):\n",
    "\n",
    "    # Golden Bear\n",
    "    sauce = requests.get(link)\n",
    "    soup = bs.BeautifulSoup(sauce.content,'html.parser')\n",
    "    table = soup.find('table', attrs={'class':'wikitable sortable plainrowheaders'})\n",
    "    rows = table.find_all('tr')\n",
    "\n",
    "    winners = {}\n",
    "\n",
    "    for row in rows:\n",
    "        cols = row.find_all('td')\n",
    "        if cols and len(cols)>1:\n",
    "            year = cols[0].text.split(\" (\")[0].strip()\n",
    "            movie = cols[1].find('a')\n",
    "            winners[year] = movie\n",
    "    return winners\n",
    "\n",
    "cannes_winners = get_winners_dict('https://en.wikipedia.org/wiki/Palme_d%27Or')\n",
    "venice_winners = get_winners_dict('https://en.wikipedia.org/wiki/Golden_Lion')\n",
    "berlin_winners = get_winners_dict('https://en.wikipedia.org/wiki/Golden_Bear')"
   ]
  },
  {
   "cell_type": "code",
   "execution_count": null,
   "metadata": {},
   "outputs": [],
   "source": []
  },
  {
   "cell_type": "code",
   "execution_count": null,
   "metadata": {},
   "outputs": [],
   "source": []
  },
  {
   "cell_type": "code",
   "execution_count": 6,
   "metadata": {},
   "outputs": [
    {
     "data": {
      "text/html": [
       "<a href=\"/wiki/Black_Coal,_Thin_Ice\" title=\"Black Coal, Thin Ice\">Black Coal, Thin Ice</a>"
      ],
      "text/plain": [
       "<IPython.core.display.HTML object>"
      ]
     },
     "metadata": {},
     "output_type": "display_data"
    },
    {
     "data": {
      "text/html": [
       "<a href=\"/wiki/Winter_Sleep_(film)\" title=\"Winter Sleep (film)\">Winter Sleep</a>"
      ],
      "text/plain": [
       "<IPython.core.display.HTML object>"
      ]
     },
     "metadata": {},
     "output_type": "display_data"
    },
    {
     "data": {
      "text/html": [
       "<a href=\"/wiki/A_Pigeon_Sat_on_a_Branch_Reflecting_on_Existence\" title=\"A Pigeon Sat on a Branch Reflecting on Existence\">A Pigeon Sat on a Branch Reflecting on Existence</a>"
      ],
      "text/plain": [
       "<IPython.core.display.HTML object>"
      ]
     },
     "metadata": {},
     "output_type": "display_data"
    }
   ],
   "source": [
    "from IPython.core.display import display, HTML\n",
    "\n",
    "year = \"2014\"\n",
    "\n",
    "display(HTML(str(berlin_winners[year])))\n",
    "display(HTML(str(cannes_winners[year])))\n",
    "display(HTML(str(venice_winners[year])))"
   ]
  }
 ],
 "metadata": {
  "kernelspec": {
   "display_name": "py36",
   "language": "python",
   "name": "py36"
  },
  "language_info": {
   "codemirror_mode": {
    "name": "ipython",
    "version": 3
   },
   "file_extension": ".py",
   "mimetype": "text/x-python",
   "name": "python",
   "nbconvert_exporter": "python",
   "pygments_lexer": "ipython3",
   "version": "3.6.0"
  }
 },
 "nbformat": 4,
 "nbformat_minor": 2
}
